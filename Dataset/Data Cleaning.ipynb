{
  "nbformat": 4,
  "nbformat_minor": 0,
  "metadata": {
    "colab": {
      "provenance": []
    },
    "kernelspec": {
      "name": "python3",
      "display_name": "Python 3"
    },
    "language_info": {
      "name": "python"
    }
  },
  "cells": [
    {
      "cell_type": "code",
      "source": [
        "# prompt: give me code to load the dataset in xlsx format\n",
        "\n",
        "import pandas as pd\n",
        "\n",
        "# Install openpyxl if not installed\n",
        "!pip install openpyxl\n",
        "\n",
        "df = pd.read_excel('/content/final dataset.xlsx')\n",
        "print(df.head())\n"
      ],
      "metadata": {
        "colab": {
          "base_uri": "https://localhost:8080/"
        },
        "id": "UIvXS-G6fIx7",
        "outputId": "21eebcda-1043-4b0d-f201-96a70a8bdf6f"
      },
      "execution_count": 2,
      "outputs": [
        {
          "output_type": "stream",
          "name": "stdout",
          "text": [
            "Requirement already satisfied: openpyxl in /usr/local/lib/python3.11/dist-packages (3.1.5)\n",
            "Requirement already satisfied: et-xmlfile in /usr/local/lib/python3.11/dist-packages (from openpyxl) (2.0.0)\n",
            "            Q1   Q2     Q3           Q4  \\\n",
            "0  Afghanistan  2.0   27.0  Afghanistan   \n",
            "1  Afghanistan  4.0  100.0  Afghanistan   \n",
            "2  Afghanistan  1.0   21.0      Albania   \n",
            "3  Afghanistan  1.0   18.0      Ecuador   \n",
            "4  Afghanistan  2.0   26.0        Spain   \n",
            "\n",
            "                                                  Q5   Q6   Q7   Q8   Q9  Q10  \\\n",
            "0                                     القدس المفتوحة  1.0  1.0  1.0  1.0  1.0   \n",
            "1                                                456  2.0  2.0  3.0  2.0  4.0   \n",
            "2                                               منيا  1.0  1.0  1.0  1.0  1.0   \n",
            "3  Universidad Indoamerica., Facultad Arquitectur...  2.0  1.0  1.0  1.0  4.0   \n",
            "4                                De vigo universidad  1.0  2.0  2.0  1.0  2.0   \n",
            "\n",
            "   ...  Q40g  Q40h  Q40i  Q40j  Q40k  Q40l  Q40m  Q40n  Q40o  source  \n",
            "0  ...   NaN   NaN   NaN   NaN   NaN   NaN   NaN   NaN   NaN      AR  \n",
            "1  ...   NaN   NaN   NaN   NaN   NaN   NaN   NaN   NaN   NaN      EN  \n",
            "2  ...   3.0   2.0   3.0   4.0   3.0   2.0   2.0   1.0   1.0      EN  \n",
            "3  ...   3.0   3.0   3.0   3.0   3.0   3.0   3.0   3.0   3.0      ES  \n",
            "4  ...   4.0   3.0   4.0   3.0   3.0   3.0   4.0   3.0   4.0      ES  \n",
            "\n",
            "[5 rows x 174 columns]\n"
          ]
        }
      ]
    },
    {
      "cell_type": "markdown",
      "source": [
        "#### Rename column names Q1-17"
      ],
      "metadata": {
        "id": "EeFyTQ6c2NLN"
      }
    },
    {
      "cell_type": "code",
      "source": [
        "# Rename Q2 to Q17 based on actual questionnaire\n",
        "df.rename(columns={\n",
        "    'Q1': 'Cititzenship',\n",
        "    'Q2': 'Gender',\n",
        "    'Q3': 'Age',\n",
        "    'Q4': 'Country_of_Study',\n",
        "    'Q5': 'Institution_Name',\n",
        "    'Q6': 'Institution_Funding_Type',\n",
        "    'Q7': 'Student_status',\n",
        "    'Q8': 'Study_Level',\n",
        "    'Q9': 'first_year_bachelors',\n",
        "    'Q10': 'Field_of_study',\n",
        "    'Q11': 'Current_mode_of_study',\n",
        "    'Q12': 'Confidence_getting_job',\n",
        "    'Q13': 'ChatGPT_Used',\n",
        "    'Q14': 'Chatgpt_version',\n",
        "    'Q15': 'ChatGPT_Extent_used',\n",
        "    'Q16': 'ChatGPT_Usage_Experience',\n",
        "    'Q17': 'ChatGPT_first_heard'\n",
        "}, inplace=True)\n"
      ],
      "metadata": {
        "id": "lpd19ML1-zPK"
      },
      "execution_count": 3,
      "outputs": []
    },
    {
      "cell_type": "markdown",
      "source": [
        "#### Modify column names to actual values Q1-17"
      ],
      "metadata": {
        "id": "EckYnOK_2UCy"
      }
    },
    {
      "cell_type": "code",
      "source": [
        "# Define value mappings\n",
        "replacement_maps = {\n",
        "    'Gender': {\n",
        "        1: 'Male',\n",
        "        2: 'Female',\n",
        "        3: 'Other',\n",
        "        4: 'Prefer not to say'\n",
        "    },\n",
        "    'Institution_Funding_Type': {\n",
        "        1: 'Public',\n",
        "        2: 'Private'\n",
        "    },\n",
        "    'Student_status': {\n",
        "        1: 'Full-time',\n",
        "        2: 'Part-time'\n",
        "    },\n",
        "    'Study_Level': {\n",
        "        1: \"Undergraduate Certificate/Diploma/Bachelor's degree (1st level)\",\n",
        "        2: \"Postgraduate Certificate/Diploma/Master's degree (2nd level)\",\n",
        "        3: \"Doctoral degree (3rd level)\"\n",
        "    },\n",
        "    'first_year_bachelors': {\n",
        "        1: 'Yes',\n",
        "        2: 'No'\n",
        "    },\n",
        "    'Field_of_study': {\n",
        "        1: 'Arts and Humanities',\n",
        "        2: 'Social Sciences',\n",
        "        3: 'Applied Sciences',\n",
        "        4: 'Natural and Life Sciences'\n",
        "    },\n",
        "    'Current_mode_of_study': {\n",
        "        1: 'Traditional learning',\n",
        "        2: 'Online learning',\n",
        "        3: 'Blended (hybrid) learning'\n",
        "    },\n",
        "    'Confidence_getting_job': {\n",
        "        1: 'Not at all confident',\n",
        "        2: 'Slightly confident',\n",
        "        3: 'Moderately confident',\n",
        "        4: 'Very confident',\n",
        "        5: 'Extremely confident'\n",
        "    },\n",
        "    'ChatGPT_Used': {\n",
        "        1: 'Yes',\n",
        "        2: 'No'\n",
        "    },\n",
        "    'Chatgpt_version': {\n",
        "        1: 'ChatGPT-3.5 (free version)',\n",
        "        2: 'ChatGPT-4 (with a subscription)',\n",
        "        3: 'Both'\n",
        "    },\n",
        "    'ChatGPT_Extent_used': {\n",
        "        1: 'Rarely',\n",
        "        2: 'Occasionally',\n",
        "        3: 'Moderately',\n",
        "        4: 'Considerably',\n",
        "        5: 'Extensively'\n",
        "    },\n",
        "    'ChatGPT_Usage_Experience': {\n",
        "        1: 'Very bad',\n",
        "        2: 'Bad',\n",
        "        3: 'Neutral',\n",
        "        4: 'Good',\n",
        "        5: 'Very good'\n",
        "    },\n",
        "    'ChatGPT_first_heard': {\n",
        "        1: 'Mainstream media',\n",
        "        2: 'Social media',\n",
        "        3: 'Class and/or work',\n",
        "        4: 'Friends and/or family'\n",
        "    }\n",
        "}\n",
        "\n",
        "# Apply replacements\n",
        "for column, mapping in replacement_maps.items():\n",
        "    if column in df.columns:\n",
        "        df[column] = df[column].map(mapping)\n"
      ],
      "metadata": {
        "id": "cQekVbb4-zMl"
      },
      "execution_count": 4,
      "outputs": []
    },
    {
      "cell_type": "code",
      "source": [
        "# df.head()"
      ],
      "metadata": {
        "id": "wMzgliWV-zKA"
      },
      "execution_count": 6,
      "outputs": []
    },
    {
      "cell_type": "markdown",
      "source": [
        "#### Replace Q18a-18l Appropriate names and values"
      ],
      "metadata": {
        "id": "3YZTHApg7tnU"
      }
    },
    {
      "cell_type": "code",
      "source": [
        "# Rename Q18a to Q18l with descriptive labels\n",
        "df.rename(columns={\n",
        "    'Q18a': 'Academic_Writing',\n",
        "    'Q18b': 'Professional_Writing',\n",
        "    'Q18c': 'Creative_Writing',\n",
        "    'Q18d': 'Proofreading',\n",
        "    'Q18e': 'Brainstorming',\n",
        "    'Q18f': 'Translating',\n",
        "    'Q18g': 'Summarizing',\n",
        "    'Q18h': 'Calculating_Help',\n",
        "    'Q18i': 'Study_Assistance',\n",
        "    'Q18j': 'Personal_Assistance',\n",
        "    'Q18k': 'Research_Assistance',\n",
        "    'Q18l': 'Coding_Assistance'\n",
        "}, inplace=True)\n",
        "\n",
        "# Define the mapping for usage frequency\n",
        "frequency_map = {\n",
        "    1: \"Never\",\n",
        "    2: \"Rarely\",\n",
        "    3: \"Sometimes\",\n",
        "    4: \"Often\",\n",
        "    5: \"Always\"\n",
        "}\n",
        "\n",
        "# Apply the mapping to each of the renamed columns\n",
        "cols_to_replace = [\n",
        "    'Academic_Writing',\n",
        "    'Professional_Writing',\n",
        "    'Creative_Writing',\n",
        "    'Proofreading',\n",
        "    'Brainstorming',\n",
        "    'Translating',\n",
        "    'Summarizing',\n",
        "    'Calculating_Help',\n",
        "    'Study_Assistance',\n",
        "    'Personal_Assistance',\n",
        "    'Research_Assistance',\n",
        "    'Coding_Assistance'\n",
        "]\n",
        "\n",
        "for col in cols_to_replace:\n",
        "    if col in df.columns:\n",
        "        df[col] = df[col].map(frequency_map)\n"
      ],
      "metadata": {
        "id": "z0uXEfpP1yfs"
      },
      "execution_count": 7,
      "outputs": []
    },
    {
      "cell_type": "markdown",
      "source": [
        "#### freq_map_agree_scale"
      ],
      "metadata": {
        "id": "TWPjm0KV9df2"
      }
    },
    {
      "cell_type": "code",
      "source": [
        "freq_map_agree_scale = {\n",
        "    1: \"Strongly disagree\",\n",
        "    2: \"Disagree\",\n",
        "    3: \"Neutral\",\n",
        "    4: \"Agree\",\n",
        "    5: \"Strongly agree\"\n",
        "}"
      ],
      "metadata": {
        "id": "3VrTOU0m8QDY"
      },
      "execution_count": 10,
      "outputs": []
    },
    {
      "cell_type": "markdown",
      "source": [
        "#### Rename agreement-based questions (Q19a to Q22j) and Q20\n"
      ],
      "metadata": {
        "id": "twnks2koPfCh"
      }
    },
    {
      "cell_type": "code",
      "source": [
        "# Rename agreement-based questions (Q19a to Q22j) and Q20\n",
        "df.rename(columns={\n",
        "    # Q19 - Capabilities of ChatGPT\n",
        "    'Q19a': 'Understand_indication_human_language',\n",
        "    'Q19b': 'Responds_in_human_language',\n",
        "    'Q19c': 'Holds_pleasant_conversation',\n",
        "    'Q19d': 'Provides_info_efficiently',\n",
        "    'Q19e': 'Provides_reliable_info',\n",
        "    'Q19f': 'Summarizes_extensive_info',\n",
        "    'Q19g': 'Simplifies_complex_info',\n",
        "    'Q19h': 'Facilitates_traditional_learning',\n",
        "    'Q19i': 'Facilitates_online_learning',\n",
        "    'Q19j': 'Facilitates_blended_learning',\n",
        "\n",
        "    # Q20 - Institutional policy\n",
        "    'Q20': 'Institute_have_policies_ChatGPT',\n",
        "\n",
        "    # Q21 - Regulation opinions\n",
        "    'Q21a': 'Need_international_regulation',\n",
        "    'Q21b': 'Need_government_regulation',\n",
        "    'Q21c': 'University_ethics_guidelines_needed',\n",
        "    'Q21d': 'Employer_ethics_guidelines_needed',\n",
        "\n",
        "    # Q22 - Ethical concerns\n",
        "    'Q22a': 'Encourages_unethical_behaviour',\n",
        "    'Q22b': 'Encourages_students_to_cheat',\n",
        "    'Q22c': 'Encourages_plagiarism',\n",
        "    'Q22d': 'Threatens_study_ethics',\n",
        "    'Q22e': 'Misleads_with_inaccurate_info',\n",
        "    'Q22f': 'Invades_privacy',\n",
        "    'Q22g': 'Reduces_human_interaction',\n",
        "    'Q22h': 'Replaces_formal_education',\n",
        "    'Q22i': 'Increases_social_isolation',\n",
        "    'Q22j': 'Hinders_learning_by_doing_work'\n",
        "}, inplace=True)\n"
      ],
      "metadata": {
        "id": "ROmzaC4m9guZ"
      },
      "execution_count": 11,
      "outputs": []
    },
    {
      "cell_type": "code",
      "source": [
        "\n",
        "# List of all relevant columns (Q19a–Q22j renamed)\n",
        "agree_cols = [\n",
        "    'Understand_indication_human_language',\n",
        "    'Responds_in_human_language',\n",
        "    'Holds_pleasant_conversation',\n",
        "    'Provides_info_efficiently',\n",
        "    'Provides_reliable_info',\n",
        "    'Summarizes_extensive_info',\n",
        "    'Simplifies_complex_info',\n",
        "    'Facilitates_traditional_learning',\n",
        "    'Facilitates_online_learning',\n",
        "    'Facilitates_blended_learning',\n",
        "    'Need_international_regulation',\n",
        "    'Need_government_regulation',\n",
        "    'University_ethics_guidelines_needed',\n",
        "    'Employer_ethics_guidelines_needed',\n",
        "    'Encourages_unethical_behaviour',\n",
        "    'Encourages_students_to_cheat',\n",
        "    'Encourages_plagiarism',\n",
        "    'Threatens_study_ethics',\n",
        "    'Misleads_with_inaccurate_info',\n",
        "    'Invades_privacy',\n",
        "    'Reduces_human_interaction',\n",
        "    'Replaces_formal_education',\n",
        "    'Increases_social_isolation',\n",
        "    'Hinders_learning_by_doing_work'\n",
        "]\n",
        "\n",
        "# Apply mapping\n",
        "for col in agree_cols:\n",
        "    if col in df.columns:\n",
        "        df[col] = df[col].map(freq_map_agree_scale)\n"
      ],
      "metadata": {
        "id": "Kh-s2fN6_lWD"
      },
      "execution_count": 12,
      "outputs": []
    },
    {
      "cell_type": "code",
      "source": [
        "\n",
        "# Define the mapping for 'Institute_have_policies_ChatGPT'\n",
        "policy_map = {\n",
        "    1: \"Yes\",\n",
        "    2: \"No\",\n",
        "    3: \"Don't know\"\n",
        "}\n",
        "\n",
        "# Apply the mapping\n",
        "if 'Institute_have_policies_ChatGPT' in df.columns:\n",
        "    df['Institute_have_policies_ChatGPT'] = df['Institute_have_policies_ChatGPT'].map(policy_map)\n"
      ],
      "metadata": {
        "id": "qZ258L2uA6Gq"
      },
      "execution_count": 22,
      "outputs": []
    },
    {
      "cell_type": "code",
      "source": [
        "# prompt: code to show columns 30 - 60\n",
        "# print(df.iloc[:, 32:54])"
      ],
      "metadata": {
        "id": "xtm0wCpRAMNn"
      },
      "execution_count": 27,
      "outputs": []
    },
    {
      "cell_type": "markdown",
      "source": [
        "#### Q23 - Q29"
      ],
      "metadata": {
        "id": "90mVEiwTDAyp"
      }
    },
    {
      "cell_type": "code",
      "source": [
        "agree_columns_23_31 = list(df.columns[df.columns.str.startswith(tuple(f'Q{i}' for i in range(23, 32)))])\n",
        "df[agree_columns_23_31] = df[agree_columns_23_31].replace(freq_map_agree_scale)"
      ],
      "metadata": {
        "id": "vzQcF0AqEfc7"
      },
      "execution_count": 28,
      "outputs": []
    },
    {
      "cell_type": "code",
      "source": [
        "df.rename(columns={\n",
        "\n",
        "    # Q23 - Ethical Considerations\n",
        "    'Q23a': 'Students_consult_prof_using',\n",
        "    'Q23b': 'Students_disclose_usage_prof',\n",
        "    'Q23c': 'Report_unethical_usage_colleagues_prof',\n",
        "    'Q23d': 'Apt_measure_protect_personal_info',\n",
        "\n",
        "    # Q24 - Satisfaction with ChatGPT\n",
        "    'Q24a': 'ChatGPT_more_useful_than_google',\n",
        "    'Q24b': 'Interaction_easier_than_professors',\n",
        "    'Q24c': 'Interaction_easier_than_colleagues',\n",
        "    'Q24d': 'Info_clearer_than_professors',\n",
        "    'Q24e': 'Satisfied_with_assistance',\n",
        "    'Q24f': 'Satisfied_with_info_quality',\n",
        "    'Q24g': 'Satisfied_with_info_accuracy',\n",
        "\n",
        "    # Q25 - Attitude while thinking about ChatGPT\n",
        "    'Q25a': 'Impression_under_control',\n",
        "    'Q25b': 'Using_is_interesting',\n",
        "    'Q25c': 'Usage_is_important',\n",
        "    'Q25d': 'Helps_in_everyday_life',\n",
        "\n",
        "    # Q26 - Learning & Academic Enhancement\n",
        "    'Q26a': 'Enhance_access_knowledge_sources',\n",
        "    'Q26b': 'Improve_general_knowledge',\n",
        "    'Q26c': 'Improve_specific_knowledge',\n",
        "    'Q26d': 'Provide_personalized_education',\n",
        "    'Q26e': 'Increase_study_efficiency',\n",
        "    'Q26f': 'Increase_study_motivation',\n",
        "    'Q26g': 'Facilitate_completing_studies',\n",
        "    'Q26h': 'Improve_class_engagement',\n",
        "    'Q26i': 'Enhance_assignment_deadlines',\n",
        "    'Q26j': 'Improve_assignment_quality',\n",
        "\n",
        "    # Q27 - Personal & Professional Development\n",
        "    'Q27a': 'Improve_exam_readiness',\n",
        "    'Q27b': 'Improve_grades',\n",
        "    'Q27c': 'Complete_activities_outside_class',\n",
        "    'Q27d': 'Complete_internships',\n",
        "    'Q27e': 'Enhance_learning_experience',\n",
        "    'Q27f': 'Improve_skills',\n",
        "    'Q27g': 'Facilitate_personal_development',\n",
        "    'Q27h': 'Facilitate_academic_development',\n",
        "    'Q27i': 'Increase_satisfaction_with_study',\n",
        "    'Q27j': 'Improve_employability',\n",
        "\n",
        "    # Q28 - Communication & Proficiency Skills\n",
        "    'Q28a': 'Improve_academic_writing_proficiency',\n",
        "    'Q28b': 'Improve_professional_writing_proficiency',\n",
        "    'Q28c': 'Improve_typing_proficiency',\n",
        "    'Q28d': 'Improve_native_language_proficiency',\n",
        "    'Q28e': 'Improve_foreign_language_proficiency',\n",
        "    'Q28f': 'Improve_interpersonal_communication_skills',\n",
        "    'Q28g': 'Improve_digital_communication_skills',\n",
        "    'Q28h': 'Improve_information_literacy_skills',\n",
        "    'Q28i': 'Improve_digital_content_creation_skills',\n",
        "\n",
        "    # Q29 - Analytical & Problem-Solving Skills\n",
        "    'Q29a': 'Improve_numeracy_proficiency',\n",
        "    'Q29b': 'Improve_decision_making_skills',\n",
        "    'Q29c': 'Improve_problem_solving_skills',\n",
        "    'Q29d': 'Improve_analytical_skills',\n",
        "    'Q29e': 'Improve_critical_thinking_skills',\n",
        "    'Q29f': 'Improve_creativity_skills',\n",
        "    'Q29g': 'Improve_data_analysis_skills',\n",
        "    'Q29h': 'Improve_programming_skills',\n",
        "    'Q29i': 'Improve_AI_literacy_skills'\n",
        "\n",
        "}, inplace=True)\n"
      ],
      "metadata": {
        "id": "HXzS3nTkASMD"
      },
      "execution_count": 33,
      "outputs": []
    },
    {
      "cell_type": "markdown",
      "source": [
        "#### Rename columns Q30a to Q31d\n"
      ],
      "metadata": {
        "id": "6rJ6KB5QPmWa"
      }
    },
    {
      "cell_type": "code",
      "source": [
        "# Rename columns Q30a to Q31d\n",
        "df.rename(columns={\n",
        "\n",
        "    # Q30 - Labour Market Challenges\n",
        "    'Q30a': 'Reduce_number_of_jobs',\n",
        "    'Q30b': 'Require_new_skills',\n",
        "    'Q30c': 'Enhance_higher_edu_labour_market_connection',\n",
        "    'Q30d': 'Require_employees_have_AI_knowledge',\n",
        "    'Q30e': 'Increase_employees_demand_AI_skills',\n",
        "    'Q30f': 'Increase_inequality_younger_old_employees',\n",
        "    'Q30g': 'Create_new_jobs',\n",
        "    'Q30h': 'Change_nature_of_jobs',\n",
        "    'Q30i': 'Facilitate_remote_work',\n",
        "    'Q30j': 'Reduce_employee_workload',\n",
        "    'Q30k': 'Improve_employee_productivity',\n",
        "    'Q30l': 'Improve_employee_innovation',\n",
        "\n",
        "    # Q31 - Addressing Skills Mismatch\n",
        "    'Q31a': 'Reduce_skills_shortages',\n",
        "    'Q31b': 'Reduce_under_skilling',\n",
        "    'Q31c': 'Resolve_skills_obsolescence',\n",
        "    'Q31d': 'Resolve_skills_gaps'\n",
        "\n",
        "}, inplace=True)\n"
      ],
      "metadata": {
        "id": "KeRvpTgDFTCe"
      },
      "execution_count": 36,
      "outputs": []
    },
    {
      "cell_type": "code",
      "source": [
        "# Rename Q32a to Q32o based on emotions\n",
        "df.rename(columns={\n",
        "    'Q32a': 'Bored',\n",
        "    'Q32b': 'Hopeful',\n",
        "    'Q32c': 'Sad',\n",
        "    'Q32d': 'Ashamed',\n",
        "    'Q32e': 'Calm',\n",
        "    'Q32f': 'Angry',\n",
        "    'Q32g': 'Relieved',\n",
        "    'Q32h': 'Happy',\n",
        "    'Q32i': 'Proud',\n",
        "    'Q32j': 'Anxious',\n",
        "    'Q32k': 'Surprised',\n",
        "    'Q32l': 'Curious',\n",
        "    'Q32m': 'Excited',\n",
        "    'Q32n': 'Confused',\n",
        "    'Q32o': 'Frustrated'\n",
        "}, inplace=True)\n",
        "\n",
        "# Define frequency mapping\n",
        "freq_map_emotions = {\n",
        "    1: 'Never',\n",
        "    2: 'Rarely',\n",
        "    3: 'Sometimes',\n",
        "    4: 'Often',\n",
        "    5: 'Always'\n",
        "}\n",
        "\n",
        "# Apply mapping to emotional frequency columns\n",
        "emotion_cols = [\n",
        "    'Bored', 'Hopeful', 'Sad', 'Ashamed', 'Calm', 'Angry', 'Relieved', 'Happy',\n",
        "    'Proud', 'Anxious', 'Surprised', 'Curious', 'Excited', 'Confused', 'Frustrated'\n",
        "]\n",
        "\n",
        "df[emotion_cols] = df[emotion_cols].replace(freq_map_emotions)\n"
      ],
      "metadata": {
        "id": "xzQVhDfnLtsD"
      },
      "execution_count": 43,
      "outputs": []
    },
    {
      "cell_type": "markdown",
      "source": [
        "#### Rename Q33 to Q39 with meaningful column names\n"
      ],
      "metadata": {
        "id": "Bi5jxjfoPqoF"
      }
    },
    {
      "cell_type": "code",
      "source": [
        "# Rename Q33 to Q39 with meaningful column names\n",
        "df.rename(columns={\n",
        "    'Q33': 'Level_difficulty_studies',\n",
        "    'Q34': 'Preferred_learning_method',\n",
        "    'Q36': 'Living_area_type',\n",
        "    'Q37': 'Receiving_financial_aid',\n",
        "    'Q38': 'Employment_status',\n",
        "    'Q39': 'Economic_status'\n",
        "}, inplace=True)\n",
        "\n",
        "# Mapping for Q33\n",
        "difficulty_map = {\n",
        "    1: \"Much too easy\",\n",
        "    2: \"Somewhat easy\",\n",
        "    3: \"Just about right\",\n",
        "    4: \"Somewhat challenging\",\n",
        "    5: \"Extremely challenging\"\n",
        "}\n",
        "\n",
        "# Mapping for Q34\n",
        "learning_method_map = {\n",
        "    1: \"Traditional learning (in a classroom)\",\n",
        "    2: \"Online learning (using digital technologies)\",\n",
        "    3: \"Blended (hybrid) learning\"\n",
        "}\n",
        "\n",
        "# Mapping for Q36\n",
        "living_area_map = {\n",
        "    1: \"Urban\",\n",
        "    2: \"Suburban\",\n",
        "    3: \"Rural\"\n",
        "}\n",
        "\n",
        "# Mapping for Q37\n",
        "financial_aid_map = {\n",
        "    1: \"Yes\",\n",
        "    2: \"No\"\n",
        "}\n",
        "\n",
        "# Mapping for Q38\n",
        "employment_status_map = {\n",
        "    1: \"Yes, full-time job\",\n",
        "    2: \"Yes, part-time job\",\n",
        "    3: \"No\"\n",
        "}\n",
        "\n",
        "# Mapping for Q39\n",
        "economic_status_map = {\n",
        "    1: \"Significantly below-average\",\n",
        "    2: \"Below-average\",\n",
        "    3: \"Average\",\n",
        "    4: \"Above-average\",\n",
        "    5: \"Significantly above-average\"\n",
        "}\n",
        "\n",
        "# Apply mappings\n",
        "df['Level_difficulty_studies'] = df['Level_difficulty_studies'].map(difficulty_map)\n",
        "df['Preferred_learning_method'] = df['Preferred_learning_method'].map(learning_method_map)\n",
        "df['Living_area_type'] = df['Living_area_type'].map(living_area_map)\n",
        "df['Receiving_financial_aid'] = df['Receiving_financial_aid'].map(financial_aid_map)\n",
        "df['Employment_status'] = df['Employment_status'].map(employment_status_map)\n",
        "df['Economic_status'] = df['Economic_status'].map(economic_status_map)\n"
      ],
      "metadata": {
        "id": "cwOVXTGcMCG2"
      },
      "execution_count": 51,
      "outputs": []
    },
    {
      "cell_type": "code",
      "source": [
        "agree_columns_35_40 = [col for col in df.columns if col.startswith(\"Q35\") or col.startswith(\"Q40\")]\n",
        "df[agree_columns_35_40] = df[agree_columns_35_40].replace(freq_map_agree_scale)"
      ],
      "metadata": {
        "id": "A1JkB7G1Ny8r"
      },
      "execution_count": 53,
      "outputs": []
    },
    {
      "cell_type": "markdown",
      "source": [
        "#### Rename Q35a–Q35n with meaningful column names\n"
      ],
      "metadata": {
        "id": "lx7EU8ETQmbV"
      }
    },
    {
      "cell_type": "code",
      "source": [
        "# Rename Q35a–Q35n with meaningful column names\n",
        "df.rename(columns={\n",
        "    'Q35a': 'Successful_in_studies',\n",
        "    'Q35b': 'Attend_classes_regularly',\n",
        "    'Q35c': 'Meet_assignment_deadlines',\n",
        "    'Q35d': 'Grades_reflect_understanding',\n",
        "    'Q35e': 'Motivated_to_study',\n",
        "    'Q35f': 'Financial_aid_sufficient',\n",
        "    'Q35g': 'Taxes_too_high',\n",
        "    'Q35h': 'Social_network_for_employment',\n",
        "    'Q35i': 'Strong_skills_for_employment',\n",
        "    'Q35j': 'Sufficient_Work_experience_for_employment',\n",
        "    'Q35k': 'General_knowledge_for_employment',\n",
        "    'Q35l': 'Specific_knowledge_for_employment',\n",
        "    'Q35m': 'Faculty_provide_skills_enhance_employability',\n",
        "    'Q35n': 'Want_employment_in_study_field',\n",
        "}, inplace=True)\n",
        "\n",
        "# Rename Q40a–Q40o with meaningful column names\n",
        "df.rename(columns={\n",
        "    'Q40a': 'Outgoing/Sociable',\n",
        "    'Q40b': 'Helpful_unselfish',\n",
        "    'Q40c': 'Neat_and_tidy',\n",
        "    'Q40d': 'Handles_stress_well',\n",
        "    'Q40e': 'Curious_about_things',\n",
        "    'Q40f': 'Determined_personality',\n",
        "    'Q40g': 'Respectful_to_others',\n",
        "    'Q40h': 'Persistent_finisher',\n",
        "    'Q40i': 'Comfortable_with_self',\n",
        "    'Q40j': 'Values_art_beauty',\n",
        "    'Q40k': 'Full_of_energy',\n",
        "    'Q40l': 'Assumes_best_about_people',\n",
        "    'Q40m': 'Dependable/Steady',\n",
        "    'Q40n': 'Emotionally_stable',\n",
        "    'Q40o': 'Original_new_ideas'\n",
        "}, inplace=True)\n"
      ],
      "metadata": {
        "id": "lLKyUXrlOnmj"
      },
      "execution_count": 55,
      "outputs": []
    },
    {
      "cell_type": "code",
      "source": [
        "# prompt: download the current dataframe as a csv file\n",
        "\n",
        "from google.colab import files\n",
        "df.to_csv('ChatGPT_Education_Analysis.csv', encoding = 'utf-8-sig')\n",
        "files.download('ChatGPT_Education_Analysis.csv')\n"
      ],
      "metadata": {
        "colab": {
          "base_uri": "https://localhost:8080/",
          "height": 17
        },
        "id": "fjfy_Jm8Pldg",
        "outputId": "b3a8b72f-c230-477a-8c39-52ed6dcf0c1a"
      },
      "execution_count": 59,
      "outputs": [
        {
          "output_type": "display_data",
          "data": {
            "text/plain": [
              "<IPython.core.display.Javascript object>"
            ],
            "application/javascript": [
              "\n",
              "    async function download(id, filename, size) {\n",
              "      if (!google.colab.kernel.accessAllowed) {\n",
              "        return;\n",
              "      }\n",
              "      const div = document.createElement('div');\n",
              "      const label = document.createElement('label');\n",
              "      label.textContent = `Downloading \"${filename}\": `;\n",
              "      div.appendChild(label);\n",
              "      const progress = document.createElement('progress');\n",
              "      progress.max = size;\n",
              "      div.appendChild(progress);\n",
              "      document.body.appendChild(div);\n",
              "\n",
              "      const buffers = [];\n",
              "      let downloaded = 0;\n",
              "\n",
              "      const channel = await google.colab.kernel.comms.open(id);\n",
              "      // Send a message to notify the kernel that we're ready.\n",
              "      channel.send({})\n",
              "\n",
              "      for await (const message of channel.messages) {\n",
              "        // Send a message to notify the kernel that we're ready.\n",
              "        channel.send({})\n",
              "        if (message.buffers) {\n",
              "          for (const buffer of message.buffers) {\n",
              "            buffers.push(buffer);\n",
              "            downloaded += buffer.byteLength;\n",
              "            progress.value = downloaded;\n",
              "          }\n",
              "        }\n",
              "      }\n",
              "      const blob = new Blob(buffers, {type: 'application/binary'});\n",
              "      const a = document.createElement('a');\n",
              "      a.href = window.URL.createObjectURL(blob);\n",
              "      a.download = filename;\n",
              "      div.appendChild(a);\n",
              "      a.click();\n",
              "      div.remove();\n",
              "    }\n",
              "  "
            ]
          },
          "metadata": {}
        },
        {
          "output_type": "display_data",
          "data": {
            "text/plain": [
              "<IPython.core.display.Javascript object>"
            ],
            "application/javascript": [
              "download(\"download_15735f95-e5c7-49ef-9e65-22c746766a77\", \"ChatGPT_Education_Analysis.csv\", 27584373)"
            ]
          },
          "metadata": {}
        }
      ]
    },
    {
      "cell_type": "code",
      "source": [],
      "metadata": {
        "id": "bUFcJ3TlQVgi"
      },
      "execution_count": null,
      "outputs": []
    }
  ]
}